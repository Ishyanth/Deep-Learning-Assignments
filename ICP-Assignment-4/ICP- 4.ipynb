{
 "cells": [
  {
   "cell_type": "markdown",
   "id": "9e3c6ba2",
   "metadata": {},
   "source": [
    "# ICP Assignment-4\n",
    "CS 5720 Neural Network & Deep Learning\n",
    "700735513, Satya Ishyanth Kadali"
   ]
  },
  {
   "cell_type": "markdown",
   "id": "24407e2b",
   "metadata": {},
   "source": [
    "Question 1"
   ]
  },
  {
   "cell_type": "code",
   "execution_count": 1,
   "id": "6ae2d4e9",
   "metadata": {},
   "outputs": [
    {
     "name": "stdout",
     "output_type": "stream",
     "text": [
      "         Duration       Pulse    Maxpulse     Calories\n",
      "count  169.000000  169.000000  169.000000   164.000000\n",
      "mean    63.846154  107.461538  134.047337   375.790244\n",
      "std     42.299949   14.510259   16.450434   266.379919\n",
      "min     15.000000   80.000000  100.000000    50.300000\n",
      "25%     45.000000  100.000000  124.000000   250.925000\n",
      "50%     60.000000  105.000000  131.000000   318.600000\n",
      "75%     60.000000  111.000000  141.000000   387.600000\n",
      "max    300.000000  159.000000  184.000000  1860.400000\n"
     ]
    }
   ],
   "source": [
    "import pandas as pd\n",
    "\n",
    "#reading file\n",
    "df=pd.read_csv(\"data.csv\")\n",
    "\n",
    "#Statistical Description about the data\n",
    "print(df.describe(include='all'))\n"
   ]
  },
  {
   "cell_type": "code",
   "execution_count": 2,
   "id": "57686aea",
   "metadata": {},
   "outputs": [
    {
     "name": "stdout",
     "output_type": "stream",
     "text": [
      "     Duration  Pulse  Maxpulse  Calories\n",
      "0       False  False     False     False\n",
      "1       False  False     False     False\n",
      "2       False  False     False     False\n",
      "3       False  False     False     False\n",
      "4       False  False     False     False\n",
      "5       False  False     False     False\n",
      "6       False  False     False     False\n",
      "7       False  False     False     False\n",
      "8       False  False     False     False\n",
      "9       False  False     False     False\n",
      "10      False  False     False     False\n",
      "11      False  False     False     False\n",
      "12      False  False     False     False\n",
      "13      False  False     False     False\n",
      "14      False  False     False     False\n",
      "15      False  False     False     False\n",
      "16      False  False     False     False\n",
      "17      False  False     False      True\n",
      "18      False  False     False     False\n",
      "19      False  False     False     False\n",
      "20      False  False     False     False\n",
      "21      False  False     False     False\n",
      "22      False  False     False     False\n",
      "23      False  False     False     False\n",
      "24      False  False     False     False\n",
      "25      False  False     False     False\n",
      "26      False  False     False     False\n",
      "27      False  False     False      True\n",
      "28      False  False     False     False\n",
      "29      False  False     False     False\n",
      "30      False  False     False     False\n",
      "31      False  False     False     False\n",
      "32      False  False     False     False\n",
      "33      False  False     False     False\n",
      "34      False  False     False     False\n",
      "35      False  False     False     False\n",
      "36      False  False     False     False\n",
      "37      False  False     False     False\n",
      "38      False  False     False     False\n",
      "39      False  False     False     False\n",
      "40      False  False     False     False\n",
      "41      False  False     False     False\n",
      "42      False  False     False     False\n",
      "43      False  False     False     False\n",
      "44      False  False     False     False\n",
      "45      False  False     False     False\n",
      "46      False  False     False     False\n",
      "47      False  False     False     False\n",
      "48      False  False     False     False\n",
      "49      False  False     False     False\n",
      "50      False  False     False     False\n",
      "51      False  False     False     False\n",
      "52      False  False     False     False\n",
      "53      False  False     False     False\n",
      "54      False  False     False     False\n",
      "55      False  False     False     False\n",
      "56      False  False     False     False\n",
      "57      False  False     False     False\n",
      "58      False  False     False     False\n",
      "59      False  False     False     False\n",
      "60      False  False     False     False\n",
      "61      False  False     False     False\n",
      "62      False  False     False     False\n",
      "63      False  False     False     False\n",
      "64      False  False     False     False\n",
      "65      False  False     False     False\n",
      "66      False  False     False     False\n",
      "67      False  False     False     False\n",
      "68      False  False     False     False\n",
      "69      False  False     False     False\n",
      "70      False  False     False     False\n",
      "71      False  False     False     False\n",
      "72      False  False     False     False\n",
      "73      False  False     False     False\n",
      "74      False  False     False     False\n",
      "75      False  False     False     False\n",
      "76      False  False     False     False\n",
      "77      False  False     False     False\n",
      "78      False  False     False     False\n",
      "79      False  False     False     False\n",
      "80      False  False     False     False\n",
      "81      False  False     False     False\n",
      "82      False  False     False     False\n",
      "83      False  False     False     False\n",
      "84      False  False     False     False\n",
      "85      False  False     False     False\n",
      "86      False  False     False     False\n",
      "87      False  False     False     False\n",
      "88      False  False     False     False\n",
      "89      False  False     False     False\n",
      "90      False  False     False     False\n",
      "91      False  False     False      True\n",
      "92      False  False     False     False\n",
      "93      False  False     False     False\n",
      "94      False  False     False     False\n",
      "95      False  False     False     False\n",
      "96      False  False     False     False\n",
      "97      False  False     False     False\n",
      "98      False  False     False     False\n",
      "99      False  False     False     False\n",
      "100     False  False     False     False\n",
      "101     False  False     False     False\n",
      "102     False  False     False     False\n",
      "103     False  False     False     False\n",
      "104     False  False     False     False\n",
      "105     False  False     False     False\n",
      "106     False  False     False     False\n",
      "107     False  False     False     False\n",
      "108     False  False     False     False\n",
      "109     False  False     False     False\n",
      "110     False  False     False     False\n",
      "111     False  False     False     False\n",
      "112     False  False     False     False\n",
      "113     False  False     False     False\n",
      "114     False  False     False     False\n",
      "115     False  False     False     False\n",
      "116     False  False     False     False\n",
      "117     False  False     False     False\n",
      "118     False  False     False      True\n",
      "119     False  False     False     False\n",
      "120     False  False     False     False\n",
      "121     False  False     False     False\n",
      "122     False  False     False     False\n",
      "123     False  False     False     False\n",
      "124     False  False     False     False\n",
      "125     False  False     False     False\n",
      "126     False  False     False     False\n",
      "127     False  False     False     False\n",
      "128     False  False     False     False\n",
      "129     False  False     False     False\n",
      "130     False  False     False     False\n",
      "131     False  False     False     False\n",
      "132     False  False     False     False\n",
      "133     False  False     False     False\n",
      "134     False  False     False     False\n",
      "135     False  False     False     False\n",
      "136     False  False     False     False\n",
      "137     False  False     False     False\n",
      "138     False  False     False     False\n",
      "139     False  False     False     False\n",
      "140     False  False     False     False\n",
      "141     False  False     False      True\n",
      "142     False  False     False     False\n",
      "143     False  False     False     False\n",
      "144     False  False     False     False\n",
      "145     False  False     False     False\n",
      "146     False  False     False     False\n",
      "147     False  False     False     False\n",
      "148     False  False     False     False\n",
      "149     False  False     False     False\n",
      "150     False  False     False     False\n",
      "151     False  False     False     False\n",
      "152     False  False     False     False\n",
      "153     False  False     False     False\n",
      "154     False  False     False     False\n",
      "155     False  False     False     False\n",
      "156     False  False     False     False\n",
      "157     False  False     False     False\n",
      "158     False  False     False     False\n",
      "159     False  False     False     False\n",
      "160     False  False     False     False\n",
      "161     False  False     False     False\n",
      "162     False  False     False     False\n",
      "163     False  False     False     False\n",
      "164     False  False     False     False\n",
      "165     False  False     False     False\n",
      "166     False  False     False     False\n",
      "167     False  False     False     False\n",
      "168     False  False     False     False\n"
     ]
    }
   ],
   "source": [
    " \n",
    "#To check if the data has null values\n",
    "iw=df.isnull()\n",
    "print(iw.to_string())\n"
   ]
  },
  {
   "cell_type": "code",
   "execution_count": 3,
   "id": "96108a3c",
   "metadata": {},
   "outputs": [
    {
     "name": "stdout",
     "output_type": "stream",
     "text": [
      "    Duration  Pulse  Maxpulse    Calories\n",
      "0         60    110       130  409.100000\n",
      "1         60    117       145  479.000000\n",
      "2         60    103       135  340.000000\n",
      "3         45    109       175  282.400000\n",
      "4         45    117       148  406.000000\n",
      "5         60    102       127  300.000000\n",
      "6         60    110       136  374.000000\n",
      "7         45    104       134  253.300000\n",
      "8         30    109       133  195.100000\n",
      "9         60     98       124  269.000000\n",
      "10        60    103       147  329.300000\n",
      "11        60    100       120  250.700000\n",
      "12        60    106       128  345.300000\n",
      "13        60    104       132  379.300000\n",
      "14        60     98       123  275.000000\n",
      "15        60     98       120  215.200000\n",
      "16        60    100       120  300.000000\n",
      "17        45     90       112  375.790244\n",
      "18        60    103       123  323.000000\n",
      "19        45     97       125  243.000000\n"
     ]
    }
   ],
   "source": [
    "#finding mean value\n",
    "m_value=df['Calories'].mean()\n",
    "\n",
    "#replacing the null values with mean\n",
    "df['Calories'].fillna(value=m_value,inplace=True)\n",
    "print(df.head(20))"
   ]
  },
  {
   "cell_type": "code",
   "execution_count": 4,
   "id": "f097f8b4",
   "metadata": {},
   "outputs": [
    {
     "name": "stdout",
     "output_type": "stream",
     "text": [
      "count    169.000000\n",
      "mean     134.047337\n",
      "std       16.450434\n",
      "min      100.000000\n",
      "25%      124.000000\n",
      "50%      131.000000\n",
      "75%      141.000000\n",
      "max      184.000000\n",
      "Name: Maxpulse, dtype: float64\n",
      "count    169.000000\n",
      "mean     107.461538\n",
      "std       14.510259\n",
      "min       80.000000\n",
      "25%      100.000000\n",
      "50%      105.000000\n",
      "75%      111.000000\n",
      "max      159.000000\n",
      "Name: Pulse, dtype: float64\n"
     ]
    }
   ],
   "source": [
    "#Aggregating the data\n",
    "print(df.Maxpulse.describe())\n",
    "print(df.Pulse.describe())"
   ]
  },
  {
   "cell_type": "code",
   "execution_count": 5,
   "id": "d9010593",
   "metadata": {},
   "outputs": [
    {
     "name": "stdout",
     "output_type": "stream",
     "text": [
      "     Duration  Pulse  Calories\n",
      "0          60    110     409.1\n",
      "1          60    117     479.0\n",
      "2          60    103     340.0\n",
      "3          45    109     282.4\n",
      "4          45    117     406.0\n",
      "..        ...    ...       ...\n",
      "164        60    105     290.8\n",
      "165        60    110     300.0\n",
      "166        60    115     310.2\n",
      "167        75    120     320.4\n",
      "168        75    125     330.4\n",
      "\n",
      "[169 rows x 3 columns]\n",
      "Duration    int64\n",
      "Pulse       int64\n",
      "Calories    int32\n",
      "dtype: object\n"
     ]
    },
    {
     "data": {
      "text/plain": [
       "<AxesSubplot:xlabel='Duration', ylabel='Calories'>"
      ]
     },
     "execution_count": 5,
     "metadata": {},
     "output_type": "execute_result"
    },
    {
     "data": {
      "image/png": "[encoded data removed]",
      "text/plain": [
       "<Figure size 432x288 with 1 Axes>"
      ]
     },
     "metadata": {
      "needs_background": "light"
     },
     "output_type": "display_data"
    }
   ],
   "source": [
    "#Filtering the dataframe\n",
    "df[(df['Calories']>500) & (df['Calories']<1000)]\n",
    "df[(df['Calories']>500 & (df['Pulse']<100))]\n",
    "\n",
    "#Creating a new dataframe without the Maxpulse column\n",
    "df_modified=df.drop(\"Maxpulse\",axis=1)\n",
    "df_modified\n",
    "df=df.drop(\"Maxpulse\",axis=1)\n",
    "print(df)\n",
    "df['Calories']=df['Calories'].astype(int)\n",
    "print(df.dtypes)\n",
    "df.plot.scatter( x = 'Duration', y = 'Calories')\n"
   ]
  },
  {
   "cell_type": "markdown",
   "id": "75919112",
   "metadata": {},
   "source": [
    "Question 2"
   ]
  },
  {
   "cell_type": "code",
   "execution_count": 6,
   "id": "3a404a14",
   "metadata": {},
   "outputs": [
    {
     "name": "stdout",
     "output_type": "stream",
     "text": [
      "Mean Squared Error=  21026037.329511296\n"
     ]
    },
    {
     "data": {
      "image/png": "[encoded data removed]",
      "text/plain": [
       "<Figure size 432x288 with 1 Axes>"
      ]
     },
     "metadata": {
      "needs_background": "light"
     },
     "output_type": "display_data"
    }
   ],
   "source": [
    "#Linear Regression\n",
    "# Importing the libraries\n",
    "\n",
    "import numpy as np\n",
    "import matplotlib.pyplot as plt\n",
    "import pandas as pd\n",
    "from sklearn.metrics import mean_squared_error\n",
    "\n",
    "\n",
    "# Importing the datasets\n",
    " \n",
    "datasets = pd.read_csv('Salary_Data.csv')\n",
    "\n",
    "X = datasets.iloc[:, :-1].values\n",
    "Y = datasets.iloc[:, 1].values\n",
    "\n",
    "# Splitting the dataset into the Training set and Test set\n",
    "\n",
    "from sklearn.model_selection import train_test_split\n",
    "X_Train, X_Test, Y_Train, Y_Test = train_test_split(X, Y, test_size=1/3, random_state = 0)\n",
    "\n",
    "# Fitting Simple Linear Regression to the training set\n",
    "\n",
    "from sklearn.linear_model import LinearRegression\n",
    "regressor = LinearRegression()\n",
    "regressor.fit(X_Train, Y_Train)\n",
    "\n",
    "# Predicting the Test set result\n",
    "\n",
    "Y_Pred = regressor.predict(X_Test)\n",
    "\n",
    "# Calculating the mean squared error\n",
    "mean_sq_error = mean_squared_error(Y_Test, Y_Pred)\n",
    "print(\"Mean Squared Error= \", mean_sq_error)\n",
    "\n",
    "# Visualizing both train and test data using scatter plot\n",
    "plt.scatter(X_Train, Y_Train,color='green')\n",
    "plt.scatter(X_Test, Y_Test, color='red')\n",
    "plt.title('Test and Training Set')\n",
    "plt.xlabel('Years of Experience')\n",
    "plt.ylabel('Salary')\n",
    "plt.show()\n",
    "\n",
    "\n"
   ]
  }
 ],
 "metadata": {
  "kernelspec": {
   "display_name": "Python 3 (ipykernel)",
   "language": "python",
   "name": "python3"
  },
  "language_info": {
   "codemirror_mode": {
    "name": "ipython",
    "version": 3
   },
   "file_extension": ".py",
   "mimetype": "text/x-python",
   "name": "python",
   "nbconvert_exporter": "python",
   "pygments_lexer": "ipython3",
   "version": "3.9.7"
  }
 },
 "nbformat": 4,
 "nbformat_minor": 5
}
