{
 "cells": [
  {
   "cell_type": "markdown",
   "id": "115d8a88",
   "metadata": {},
   "source": [
    "# ICP Assignment-2\n",
    "CS 5720 Neural Network & Deep Learning\n",
    "700735513, Satya Ishyanth Kadali"
   ]
  },
  {
   "cell_type": "raw",
   "id": "650a3044",
   "metadata": {},
   "source": [
    "#Question 1"
   ]
  },
  {
   "cell_type": "code",
   "execution_count": 1,
   "id": "213f65a2",
   "metadata": {},
   "outputs": [
    {
     "name": "stdout",
     "output_type": "stream",
     "text": [
      "Enter your first name: Ishyanth\n",
      "Enter your last name: Kadali\n",
      "First_name =  Ishyanth Last_name =  Kadali \n",
      " Full_name =  Ishyanth Kadali\n",
      "Ihat aai\n"
     ]
    }
   ],
   "source": [
    "# taking input of first name and last name from user\n",
    "first_name= input(\"Enter your first name: \")\n",
    "last_name= input(\"Enter your last name: \")\n",
    "\n",
    "# defing function to concatenate first name and last name and return full name\n",
    "def full_name(x,y):\n",
    "    fn=x+' '+y\n",
    "    print(\"First_name = \",x,\"Last_name = \",y, \"\\n\",\n",
    "        \"Full_name = \",fn)\n",
    "    return fn\n",
    "\n",
    "# defining function to print every second character of the input string\n",
    "def string_alternative(z):\n",
    "    print(z [::2])\n",
    "\n",
    "# calling functions\n",
    "fn = full_name(first_name, last_name)\n",
    "string_alternative(fn)"
   ]
  },
  {
   "cell_type": "raw",
   "id": "83022723",
   "metadata": {},
   "source": [
    "#Question 2"
   ]
  },
  {
   "cell_type": "code",
   "execution_count": 2,
   "id": "7ff21e98",
   "metadata": {},
   "outputs": [],
   "source": [
    "#opening input.txt in read mode and output.txt in write mode\n",
    "with open('input.txt', 'r') as input_file, open('output.txt', 'w') as output_file:\n",
    "    #creating an empty dictionary\n",
    "    content = {}\n",
    "    #iterating through each line in the input file and writing to the output file\n",
    "    for line in input_file:\n",
    "        \n",
    "        output_file.write(line)\n",
    "        # removing whitespaces and spliting the words\n",
    "        for word in line.strip().split():\n",
    "            if word in content:\n",
    "                content[word] += 1\n",
    "            else:\n",
    "                content[word] = 1\n",
    "   \n",
    "    output_file.write(\"\\nWord_Count: \\n\")\n",
    "    #iterating through the content dictionary\n",
    "    for word, count in content.items():\n",
    "        output_file.write(f'{word}:{count}\\n')"
   ]
  },
  {
   "cell_type": "raw",
   "id": "e1c73903",
   "metadata": {},
   "source": [
    "# Question 3\n",
    "1) Using List comprehension\n",
    "2) Using Nested Interactive Loop"
   ]
  },
  {
   "cell_type": "code",
   "execution_count": 3,
   "id": "fa22e6dd",
   "metadata": {},
   "outputs": [
    {
     "name": "stdout",
     "output_type": "stream",
     "text": [
      "Enter Customers heights in inches : 70 67 56 80\n",
      "Customers heights in centimeters :  [177.8, 170.18, 142.24, 203.2]\n"
     ]
    }
   ],
   "source": [
    "#taking input from user\n",
    "Cust = input(\"Enter Customers heights in inches : \")\n",
    "\n",
    "# function for conversion inches to centimeters\n",
    "def conversion(value):\n",
    "    return value*2.54\n",
    "#creating list for heights\n",
    "heights = Cust.split()\n",
    "\n",
    "\n",
    "\n",
    "#by using list comprehension converting the values in  heights\n",
    "new_list = [conversion(int(x)) for x in heights]\n",
    "\n",
    "print(\"Customers heights in centimeters : \",new_list)"
   ]
  },
  {
   "cell_type": "code",
   "execution_count": 4,
   "id": "42e2f698",
   "metadata": {},
   "outputs": [
    {
     "name": "stdout",
     "output_type": "stream",
     "text": [
      "Enter Customers heights in inches : 70 67 56 80\n",
      "Customers heights in centimeters :  [177.8, 170.18, 142.24, 203.2]\n"
     ]
    }
   ],
   "source": [
    "#taking input from user\n",
    "Cust = input(\"Enter Customers heights in inches : \")\n",
    "\n",
    "# function for conversion inches to centimeters\n",
    "def conversion(value):\n",
    "    return value*2.54\n",
    "\n",
    "#creating list for heights\n",
    "heights = Cust.split()\n",
    "\n",
    "# initializing empty list\n",
    "new_list = []\n",
    "\n",
    "#Using Nested Interactive loop \n",
    "for x in heights:\n",
    "    value = int(x)\n",
    "    new_list.append(conversion(value))\n",
    "\n",
    "print(\"Customers heights in centimeters : \",new_list)"
   ]
  }
 ],
 "metadata": {
  "kernelspec": {
   "display_name": "Python 3 (ipykernel)",
   "language": "python",
   "name": "python3"
  },
  "language_info": {
   "codemirror_mode": {
    "name": "ipython",
    "version": 3
   },
   "file_extension": ".py",
   "mimetype": "text/x-python",
   "name": "python",
   "nbconvert_exporter": "python",
   "pygments_lexer": "ipython3",
   "version": "3.9.7"
  }
 },
 "nbformat": 4,
 "nbformat_minor": 5
}
