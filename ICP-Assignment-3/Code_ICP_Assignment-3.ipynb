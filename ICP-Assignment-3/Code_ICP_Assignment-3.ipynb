{
 "cells": [
  {
   "cell_type": "markdown",
   "id": "2a3542bf",
   "metadata": {},
   "source": [
    "# ICP Assignment-3\n",
    "CS 5720 Neural Network & Deep Learning\n",
    "700735513, Satya Ishyanth Kadali"
   ]
  },
  {
   "cell_type": "code",
   "execution_count": null,
   "id": "1cab890b",
   "metadata": {},
   "outputs": [],
   "source": [
    "Question 1"
   ]
  },
  {
   "cell_type": "code",
   "execution_count": 2,
   "id": "60659b49",
   "metadata": {},
   "outputs": [
    {
     "name": "stdout",
     "output_type": "stream",
     "text": [
      "Average Salary =  70000.0\n",
      "Number of Employees =  3\n"
     ]
    }
   ],
   "source": [
    "#creating a Employee class\n",
    "class Employee:\n",
    "    total_salary = 0\n",
    "    emp_count = 0\n",
    "    \n",
    "    def __init__(self, name, family, salary, department):\n",
    "        self.name = name\n",
    "        self.family = family\n",
    "        self.salary = salary\n",
    "        self.department = department\n",
    "        # increment total salary and employee count\n",
    "        Employee.total_salary += salary\n",
    "        Employee.emp_count += 1\n",
    "        \n",
    "    # class method to calculate average salary\n",
    "    @classmethod\n",
    "    def average_salary(cls):\n",
    "        return cls.total_salary / cls.emp_count\n",
    "\n",
    "#Creating a Fulltime Employee class with Inheritence \n",
    "class FulltimeEmployee(Employee):\n",
    "    pass\n",
    "\n",
    "# creating instances of the classes\n",
    "emp1 = FulltimeEmployee(\"Ishyanth\", \"Kadali\", 90000, \"Research\")\n",
    "emp2 = Employee(\"Abhi\", \"Tammana\", 40000, \"Customer Service\")\n",
    "emp3 = Employee(\"Jayakar\", \"Dadala\", 80000, \"Accounting\")\n",
    "\n",
    "print(\"Average Salary = \", Employee.average_salary())\n",
    "print(\"Number of Employees = \", Employee.emp_count)\n"
   ]
  },
  {
   "cell_type": "markdown",
   "id": "cbe8f60a",
   "metadata": {},
   "source": [
    "Question 2"
   ]
  },
  {
   "cell_type": "code",
   "execution_count": 6,
   "id": "207809f6",
   "metadata": {},
   "outputs": [
    {
     "name": "stdout",
     "output_type": "stream",
     "text": [
      "[[ 0.          7.22182483 12.85463727 11.54550355  3.78727794]\n",
      " [ 0.         10.75728244 10.07139048  7.32120781 12.60012389]\n",
      " [ 5.68009521  3.55195525  3.99239713  0.          4.95695426]\n",
      " [14.13367363  0.          9.95311926 13.16701456 16.06566808]]\n"
     ]
    }
   ],
   "source": [
    "import numpy as np\n",
    "\n",
    "# Creating a random vector of size 20 with only float values in the range 1-20\n",
    "r_vector = np.random.uniform(1, 20, 20)\n",
    "\n",
    "# Reshape the array to 4x5\n",
    "new_array = r_vector.reshape(4, 5)\n",
    "\n",
    "# Replace the max in each row with 0 (axis=1)\n",
    "np.place(new_array, new_array == np.max(new_array, axis=1, keepdims=True), 0)\n",
    "\n",
    "print(new_array)"
   ]
  }
 ],
 "metadata": {
  "kernelspec": {
   "display_name": "Python 3 (ipykernel)",
   "language": "python",
   "name": "python3"
  },
  "language_info": {
   "codemirror_mode": {
    "name": "ipython",
    "version": 3
   },
   "file_extension": ".py",
   "mimetype": "text/x-python",
   "name": "python",
   "nbconvert_exporter": "python",
   "pygments_lexer": "ipython3",
   "version": "3.9.7"
  }
 },
 "nbformat": 4,
 "nbformat_minor": 5
}
